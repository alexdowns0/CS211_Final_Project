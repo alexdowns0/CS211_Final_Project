{
 "cells": [
  {
   "cell_type": "markdown",
   "id": "aba3a127",
   "metadata": {},
   "source": [
    "# CS211 Final Project"
   ]
  },
  {
   "cell_type": "code",
   "execution_count": 9,
   "id": "0992443c",
   "metadata": {},
   "outputs": [],
   "source": [
    "# Load the data and libraries\n",
    "import pandas as pd\n",
    "import numpy as np\n",
    "from scipy import stats\n",
    "import matplotlib.pyplot as plt\n",
    "plt.style.use('seaborn-whitegrid')\n",
    "\n",
    "def laplace_mech(v, sensitivity, epsilon):\n",
    "    return v + np.random.laplace(loc=0, scale=sensitivity / epsilon)\n",
    "\n",
    "def gaussian_mech(v, sensitivity, epsilon, delta):\n",
    "    return v + np.random.normal(loc=0, scale=sensitivity * np.sqrt(2*np.log(1.25/delta)) / epsilon)\n",
    "\n",
    "def pct_error(orig, priv):\n",
    "    return np.abs(orig - priv)/orig * 100.0\n",
    "\n",
    "heights = pd.read_csv('https://raw.githubusercontent.com/alexdowns0/CS211_Final_Project/main/Heights.csv')"
   ]
  },
  {
   "cell_type": "code",
   "execution_count": 20,
   "id": "7559781d",
   "metadata": {},
   "outputs": [
    {
     "name": "stdout",
     "output_type": "stream",
     "text": [
      "Actual minimum height: 65.0 inches\n",
      "Local sensitivity of the minimum: 65.0 inches\n",
      "91.0\n"
     ]
    }
   ],
   "source": [
    "## Cache the sorted ages, because we will use them a lot.\n",
    "height_lower = 0\n",
    "height_upper = 100\n",
    "sorted_heights = heights['Height'].clip(lower=height_lower, upper=height_upper).sort_values()\n",
    "\n",
    "def min_height():\n",
    "    clipped_heights = heights['Height'].clip(lower=0, upper=100)\n",
    "    return clipped_heights.min()\n",
    "\n",
    "def ls_min():\n",
    "    return max(sorted_heights.iloc[0] - height_lower, sorted_heights.iloc[1]  - sorted_heights.iloc[0]) #new min - old min \n",
    "\n",
    "print('Actual minimum height:', min_height(), 'inches')\n",
    "print('Local sensitivity of the minimum:', ls_min(), 'inches')\n",
    "\n"
   ]
  },
  {
   "cell_type": "code",
   "execution_count": null,
   "id": "145c4043",
   "metadata": {},
   "outputs": [],
   "source": [
    "# more chunks means less noise\n",
    "\n",
    "\n",
    "def f(chunk):\n",
    "    return (chunk['Height'].quantile(q=1))\n",
    "\n",
    "def saa_min_age(k, epsilon):\n",
    "    df = heights['Height']\n",
    "  \n",
    "    # Calculate the number of rows in each chunk\n",
    "    chunk_size = int(np.ceil(df.shape[0] / k))\n",
    "    \n",
    "    # Step 1: split `df` into chunks\n",
    "    xs = [df[i:i+chunk_size] for i in range(0,df.shape[0],chunk_size)]\n",
    "    \n",
    "    # Step 2: run f on each x_i and clip its output\n",
    "    answers = [f(x_i) for x_i in xs]\n",
    "    \n",
    "    u = 95\n",
    "    l = 60\n",
    "    clipped_answers = np.clip(answers, l, u)\n",
    "    \n",
    "\n",
    "    # Step 3: take the noisy mean of the clipped answers\n",
    "    #noisy_mean = laplace_mech(np.mean(clipped_answers), (u-l)/k, epsilon)    equivalent to the 2 lines below\n",
    "    noisy_sum = laplace_mech(np.sum(clipped_answers), u-1, epsilon)\n",
    "    noisy_mean = noisy_sum / k\n",
    "    return noisy_mean\n",
    "\n",
    "\n",
    "\n",
    "saa_min_age(500, 1.0)"
   ]
  },
  {
   "cell_type": "code",
   "execution_count": null,
   "id": "044cfcb7",
   "metadata": {},
   "outputs": [],
   "source": []
  }
 ],
 "metadata": {
  "kernelspec": {
   "display_name": "Python 3",
   "language": "python",
   "name": "python3"
  },
  "language_info": {
   "codemirror_mode": {
    "name": "ipython",
    "version": 3
   },
   "file_extension": ".py",
   "mimetype": "text/x-python",
   "name": "python",
   "nbconvert_exporter": "python",
   "pygments_lexer": "ipython3",
   "version": "3.8.8"
  }
 },
 "nbformat": 4,
 "nbformat_minor": 5
}
