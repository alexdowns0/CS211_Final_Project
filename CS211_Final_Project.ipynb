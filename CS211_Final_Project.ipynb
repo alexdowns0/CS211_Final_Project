{
 "cells": [
  {
   "cell_type": "markdown",
   "id": "aba3a127",
   "metadata": {},
   "source": [
    "# CS211 Final Project"
   ]
  },
  {
   "cell_type": "code",
   "execution_count": 1,
   "id": "0992443c",
   "metadata": {},
   "outputs": [],
   "source": [
    "# Load the data and libraries\n",
    "import pandas as pd\n",
    "import numpy as np\n",
    "from scipy import stats\n",
    "import matplotlib.pyplot as plt\n",
    "plt.style.use('seaborn-whitegrid')\n",
    "\n",
    "def laplace_mech(v, sensitivity, epsilon):\n",
    "    return v + np.random.laplace(loc=0, scale=sensitivity / epsilon)\n",
    "\n",
    "def gaussian_mech(v, sensitivity, epsilon, delta):\n",
    "    return v + np.random.normal(loc=0, scale=sensitivity * np.sqrt(2*np.log(1.25/delta)) / epsilon)\n",
    "\n",
    "def pct_error(orig, priv):\n",
    "    return np.abs(orig - priv)/orig * 100.0\n",
    "\n",
    "heights = pd.read_csv('https://raw.githubusercontent.com/alexdowns0/CS211_Final_Project/main/Heights.csv')"
   ]
  },
  {
   "cell_type": "code",
   "execution_count": 18,
   "id": "7559781d",
   "metadata": {},
   "outputs": [
    {
     "name": "stdout",
     "output_type": "stream",
     "text": [
      "Actual minimum height: 65.0 inches\n",
      "Local sensitivity of the minimum: 65.0 inches\n"
     ]
    }
   ],
   "source": [
    "## Cache the sorted ages, because we will use them a lot.\n",
    "height_lower = 0\n",
    "height_upper = 100\n",
    "sorted_heights = heights['Height'].clip(lower=height_lower, upper=height_upper).sort_values()\n",
    "\n",
    "def min_height():\n",
    "    clipped_heights = heights['Height'].clip(lower=0, upper=100)\n",
    "    return clipped_heights.min()\n",
    "\n",
    "def ls_min():\n",
    "    return max(sorted_heights.iloc[0] - height_lower, sorted_heights.iloc[1]  - sorted_heights.iloc[0]) #new min - old min \n",
    "\n",
    "\n",
    "\n",
    "print('Actual minimum height:', min_height(), 'inches')\n",
    "print('Local sensitivity of the minimum:', ls_min(), 'inches')\n",
    "\n"
   ]
  },
  {
   "cell_type": "code",
   "execution_count": 19,
   "id": "e0b9c04c",
   "metadata": {},
   "outputs": [],
   "source": [
    "assert min_height() == 65.0\n",
    "assert ls_min() == 65.0"
   ]
  },
  {
   "cell_type": "code",
   "execution_count": 43,
   "id": "145c4043",
   "metadata": {},
   "outputs": [
    {
     "name": "stdout",
     "output_type": "stream",
     "text": [
      "Upper:  72\n",
      "114.79979731407859\n",
      "78.0\n"
     ]
    }
   ],
   "source": [
    "\n",
    "# more chunks means less noise\n",
    "bs = list(range(60, 96, 3))\n",
    "def f(chunk, q):\n",
    "    return (chunk.quantile(q))\n",
    "\n",
    "def saa_percentile_height(k, epsilon, q):\n",
    "    df = heights['Height']\n",
    "    # Calculate the number of rows in each chunk\n",
    "    chunk_size = int(np.ceil(df.shape[0] / k))\n",
    "    # Step 1: split `df` into chunks\n",
    "    xs = [df[i:i+chunk_size] for i in range(0,df.shape[0],chunk_size)]\n",
    "    # Step 2: run f on each x_i and clip its output\n",
    "    answers = pd.Series([f(x_i, q) for x_i in xs])\n",
    "    \n",
    "    \n",
    "    def upper(answers, b_lower, epsilon):\n",
    "        query_results = [(answers.clip(lower=b_lower, upper=b)).sum() -\n",
    "        answers.clip(lower=b_lower, upper=b+1).sum() for b in bs]\n",
    "        idx = above_threshold(query_results, 0, epsilon)\n",
    "        if idx == None:\n",
    "            return bs[-1]\n",
    "        else:\n",
    "            return bs[idx]\n",
    "    l = 60\n",
    "    u = upper(answers, l, 3 * epsilon/4)\n",
    "    print(\"Upper: \" , u)\n",
    "    clipped_answers = np.clip(answers, l, u) \n",
    "    # Step 3: take the noisy mean of the clipped answers\n",
    "    noisy_sum = laplace_mech(np.sum(clipped_answers), u-1, epsilon/4)\n",
    "    noisy_mean = noisy_sum / k\n",
    "    return noisy_mean\n",
    "p = .5\n",
    "epsilon = 1\n",
    "\n",
    "print(saa_percentile_height(10, epsilon, p))\n",
    "print(f(heights['Height'], p))\n",
    "\n"
   ]
  },
  {
   "cell_type": "code",
   "execution_count": 42,
   "id": "f7850d83",
   "metadata": {},
   "outputs": [],
   "source": [
    "\n",
    "def above_threshold(query_results, T, epsilon):\n",
    "    T_hat = T + np.random.laplace(loc=0, scale = 2/epsilon)\n",
    "    for idx, q in enumerate(query_results):\n",
    "        nu_i = np.random.laplace(loc=0, scale = 4/epsilon)\n",
    "        if q + nu_i >= T_hat:\n",
    "            return idx\n",
    "    return None\n",
    "\n"
   ]
  },
  {
   "cell_type": "code",
   "execution_count": 52,
   "id": "ee746175",
   "metadata": {},
   "outputs": [
    {
     "name": "stdout",
     "output_type": "stream",
     "text": [
      "Upper:  93\n",
      "Upper:  72\n",
      "Upper:  75\n",
      "Upper:  78\n",
      "Upper:  93\n",
      "Upper:  78\n",
      "Upper:  75\n",
      "Upper:  81\n",
      "Upper:  81\n",
      "Upper:  87\n",
      "Upper:  78\n",
      "Upper:  75\n",
      "Upper:  75\n",
      "Upper:  72\n",
      "Upper:  75\n",
      "Upper:  81\n",
      "Upper:  75\n",
      "Upper:  81\n",
      "Upper:  75\n",
      "Upper:  75\n",
      "Upper:  75\n",
      "Upper:  75\n",
      "Upper:  75\n",
      "Upper:  81\n",
      "Upper:  72\n",
      "Upper:  72\n",
      "Upper:  75\n",
      "Upper:  72\n",
      "Upper:  72\n",
      "Upper:  78\n",
      "Upper:  78\n",
      "Upper:  75\n",
      "Upper:  81\n",
      "Upper:  78\n",
      "Upper:  81\n",
      "Upper:  78\n",
      "Upper:  75\n",
      "Upper:  72\n",
      "Upper:  93\n",
      "Upper:  78\n",
      "Upper:  75\n",
      "Upper:  93\n",
      "Upper:  75\n",
      "Upper:  75\n",
      "Upper:  78\n",
      "Upper:  93\n",
      "Upper:  93\n",
      "Upper:  78\n",
      "Upper:  75\n",
      "Upper:  93\n",
      "Upper:  75\n",
      "Upper:  75\n",
      "Upper:  72\n",
      "Upper:  78\n",
      "Upper:  75\n",
      "Upper:  78\n",
      "Upper:  75\n",
      "Upper:  75\n",
      "Upper:  75\n",
      "Upper:  75\n",
      "Upper:  72\n",
      "Upper:  78\n",
      "Upper:  78\n",
      "Upper:  75\n",
      "Upper:  93\n",
      "Upper:  75\n",
      "Upper:  72\n",
      "Upper:  75\n",
      "Upper:  78\n",
      "Upper:  84\n",
      "Upper:  81\n",
      "Upper:  75\n",
      "Upper:  87\n",
      "Upper:  75\n",
      "Upper:  87\n",
      "Upper:  75\n",
      "Upper:  72\n",
      "Upper:  75\n",
      "Upper:  75\n",
      "Upper:  75\n",
      "Upper:  78\n",
      "Upper:  87\n",
      "Upper:  75\n",
      "Upper:  72\n",
      "Upper:  78\n",
      "Upper:  93\n",
      "Upper:  78\n",
      "Upper:  75\n",
      "Upper:  75\n",
      "Upper:  75\n",
      "Upper:  75\n",
      "Upper:  93\n",
      "Upper:  78\n",
      "Upper:  75\n",
      "Upper:  72\n",
      "Upper:  75\n",
      "Upper:  81\n",
      "Upper:  72\n",
      "Upper:  78\n",
      "Upper:  84\n",
      "Median error for heights:  7.525151196161542\n",
      "Mean error for heights:  8.400561845269495\n"
     ]
    },
    {
     "data": {
      "image/png": "[encoded data removed]",
      "text/plain": [
       "<Figure size 432x288 with 1 Axes>"
      ]
     },
     "metadata": {},
     "output_type": "display_data"
    }
   ],
   "source": [
    "# TEST CASE\n",
    "true_min = heights['Height'].min()\n",
    "true_val = heights['Height'].max()\n",
    "trials = [saa_percentile_height(100, 1.0,0) for _ in range(100)]\n",
    "   \n",
    "errors1 = [pct_error(true_val, t) for t in trials]\n",
    "print('Median error for heights: ', np.median(errors))\n",
    "errors = [pct_error(true_min, t) for t in trials]\n",
    "\n",
    "\n",
    "# include histogram for the number of trials\n",
    "plt.hist(trials, bins =50);\n",
    "\n",
    "print('Mean error for heights: ', np.mean(errors))\n",
    "assert np.mean(errors) > 0\n",
    "assert np.mean(errors) < 11\n",
    "assert np.median(errors) > 0\n",
    "assert np.median(errors) < 100\n",
    "\n"
   ]
  },
  {
   "cell_type": "code",
   "execution_count": null,
   "id": "843d51b1",
   "metadata": {},
   "outputs": [],
   "source": []
  }
 ],
 "metadata": {
  "kernelspec": {
   "display_name": "Python 3",
   "language": "python",
   "name": "python3"
  },
  "language_info": {
   "codemirror_mode": {
    "name": "ipython",
    "version": 3
   },
   "file_extension": ".py",
   "mimetype": "text/x-python",
   "name": "python",
   "nbconvert_exporter": "python",
   "pygments_lexer": "ipython3",
   "version": "3.8.8"
  }
 },
 "nbformat": 4,
 "nbformat_minor": 5
}
