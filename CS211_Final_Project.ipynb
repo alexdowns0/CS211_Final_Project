{
 "cells": [
  {
   "cell_type": "markdown",
   "id": "aba3a127",
   "metadata": {},
   "source": [
    "# CS211 Final Project"
   ]
  },
  {
   "cell_type": "code",
   "execution_count": 10,
   "id": "0992443c",
   "metadata": {},
   "outputs": [
    {
     "data": {
      "text/plain": [
       "4500"
      ]
     },
     "execution_count": 10,
     "metadata": {},
     "output_type": "execute_result"
    }
   ],
   "source": [
    "# Load the data and libraries\n",
    "import pandas as pd\n",
    "import numpy as np\n",
    "from scipy import stats\n",
    "import matplotlib.pyplot as plt\n",
    "plt.style.use('seaborn-whitegrid')\n",
    "\n",
    "def laplace_mech(v, sensitivity, epsilon):\n",
    "    return v + np.random.laplace(loc=0, scale=sensitivity / epsilon)\n",
    "\n",
    "def gaussian_mech(v, sensitivity, epsilon, delta):\n",
    "    return v + np.random.normal(loc=0, scale=sensitivity * np.sqrt(2*np.log(1.25/delta)) / epsilon)\n",
    "\n",
    "def pct_error(orig, priv):\n",
    "    return np.abs(orig - priv)/orig * 100.0\n",
    "\n",
    "\n",
    "def above_threshold(query_results, T, epsilon):\n",
    "    T_hat = T + np.random.laplace(loc=0, scale = 2/epsilon)\n",
    "    for idx, q in enumerate(query_results):\n",
    "        nu_i = np.random.laplace(loc=0, scale = 4/epsilon)\n",
    "        if q + nu_i >= T_hat:\n",
    "            return idx\n",
    "    return None\n",
    "\n",
    "\n",
    "heights = pd.read_csv('https://raw.githubusercontent.com/alexdowns0/CS211_Final_Project/main/Heights.csv')\n",
    "len(heights)"
   ]
  },
  {
   "cell_type": "code",
   "execution_count": 11,
   "id": "7559781d",
   "metadata": {},
   "outputs": [
    {
     "name": "stdout",
     "output_type": "stream",
     "text": [
      "Actual minimum height: 65.0 inches\n",
      "80.0\n"
     ]
    }
   ],
   "source": [
    "## Cache the sorted ages, because we will use them a lot.\n",
    "height_lower = 0\n",
    "height_upper = 100\n",
    "sorted_heights = heights['Height'].clip(lower=height_lower, upper=height_upper).sort_values()\n",
    "\n",
    "def min_height():\n",
    "    clipped_heights = heights['Height'].clip(lower=0, upper=100)\n",
    "    return clipped_heights.min()\n",
    "\n",
    "def percentile(q):\n",
    "    return heights[\"Height\"].quantile(q)\n",
    "\n",
    "\n",
    "print('Actual minimum height:', min_height(), 'inches')\n",
    "\n",
    "print(percentile(.71))\n"
   ]
  },
  {
   "cell_type": "code",
   "execution_count": 12,
   "id": "e0b9c04c",
   "metadata": {},
   "outputs": [],
   "source": [
    "assert min_height() == 65.0\n",
    "assert min_height() == percentile(0)"
   ]
  },
  {
   "cell_type": "code",
   "execution_count": 13,
   "id": "145c4043",
   "metadata": {},
   "outputs": [
    {
     "name": "stdout",
     "output_type": "stream",
     "text": [
      "65.25688607510132\n",
      "78.0\n"
     ]
    }
   ],
   "source": [
    "# more chunks means more noise to signal ratio\n",
    "\n",
    "bs = list(range(60, 96, 3))\n",
    "def f(chunk, q):\n",
    "    return (chunk.quantile(q))\n",
    "\n",
    "def saa_percentile_height(k, epsilon, q):\n",
    "    df = heights['Height']\n",
    "    # Calculate the number of rows in each chunk\n",
    "    chunk_size = int(np.ceil(df.shape[0] / k))\n",
    "    # Step 1: split `df` into chunks\n",
    "    xs = [df[i:i+chunk_size] for i in range(0,df.shape[0],chunk_size)]\n",
    "    # Step 2: run f on each x_i and clip its output\n",
    "    answers = pd.Series([f(x_i, q) for x_i in xs])\n",
    "    \n",
    "    \n",
    "    def upper(answers, b_lower, epsilon):\n",
    "        query_results = [(answers.clip(lower=b_lower, upper=b)).sum() -\n",
    "        answers.clip(lower=b_lower, upper=b+1).sum() for b in bs]\n",
    "        idx = above_threshold(query_results, 0, epsilon)\n",
    "        if idx == None:\n",
    "            return bs[-1]\n",
    "        else:\n",
    "            return bs[idx]\n",
    "    l = 60\n",
    "    u = upper(answers, l, epsilon/2)\n",
    "    #print(\"Upper Clipping parameter: \" , u)\n",
    "    clipped_answers = np.clip(answers, l, u) \n",
    "    # Step 3: take the noisy mean of the clipped answers\n",
    "    noisy_sum = laplace_mech(np.sum(clipped_answers), u-1, epsilon/2)\n",
    "    noisy_mean = noisy_sum / k\n",
    "    return noisy_mean\n",
    "\n",
    "\n",
    "p = .5\n",
    "epsilon = 1\n",
    "print(saa_percentile_height(10, epsilon, p))\n",
    "print(percentile(p))\n",
    "\n"
   ]
  },
  {
   "cell_type": "code",
   "execution_count": 14,
   "id": "ee746175",
   "metadata": {},
   "outputs": [
    {
     "name": "stdout",
     "output_type": "stream",
     "text": [
      "Median error for min heights:  3.6103820490719754\n",
      "Mean error for min heights:  3.665800504829666 \n",
      "\n",
      "Median error for max heights:  5.652947830011037\n",
      "Mean error for max heights:  6.190368160030223 \n",
      "\n",
      "Median error for med heights:  1.0133298204147096\n",
      "Mean error for med heights:  1.173010233069374 \n",
      "\n"
     ]
    },
    {
     "data": {
      "image/png": "[encoded data removed]",
      "text/plain": [
       "<Figure size 432x288 with 1 Axes>"
      ]
     },
     "metadata": {},
     "output_type": "display_data"
    }
   ],
   "source": [
    "# TEST CASES\n",
    "true_min = heights['Height'].min()\n",
    "true_max = heights['Height'].max()\n",
    "true_med = percentile(.5)\n",
    "\n",
    "# Minimum trials\n",
    "min_trials = [saa_percentile_height(700, 1.0,0) for _ in range(100)]\n",
    "min_errors = [pct_error(true_min, t) for t in min_trials]\n",
    "print('Median error for min heights: ', np.median(min_errors))\n",
    "print('Mean error for min heights: ', np.mean(min_errors),\"\\n\")\n",
    "\n",
    "#Max Trials\n",
    "max_trials = [saa_percentile_height(100, 1.0,1.0) for _ in range(100)]\n",
    "max_errors = [pct_error(true_max, t) for t in max_trials]\n",
    "print('Median error for max heights: ', np.median(max_errors))\n",
    "print('Mean error for max heights: ', np.mean(max_errors),\"\\n\")\n",
    "\n",
    "#Med trials\n",
    "med_trials = [saa_percentile_height(300, 1.0,0.5) for _ in range(100)]\n",
    "med_errors = [pct_error(true_med, t) for t in med_trials]\n",
    "print('Median error for med heights: ', np.median(med_errors))\n",
    "print('Mean error for med heights: ', np.mean(med_errors),\"\\n\")\n",
    "\n",
    "\n",
    "\n",
    "\n",
    "# include histogram for the number of trials\n",
    "plt.hist(min_trials, bins =50);\n",
    "\n",
    "assert np.mean(min_errors) > 0\n",
    "assert np.mean(min_errors) < 11\n",
    "assert np.median(min_errors) > 0\n",
    "assert np.median(min_errors) < 100\n",
    "\n"
   ]
  },
  {
   "cell_type": "code",
   "execution_count": 15,
   "id": "9b1ea96e",
   "metadata": {},
   "outputs": [
    {
     "name": "stdout",
     "output_type": "stream",
     "text": [
      "Median error for min heights:  8.38333905137359\n",
      "Mean error for min heights:  9.035252249895843 \n",
      "\n",
      "Median error for max heights:  6.215141166243234\n",
      "Mean error for max heights:  6.888723445897191 \n",
      "\n",
      "Median error for med heights:  2.6282116469038037\n",
      "Mean error for med heights:  3.8857867328067455 \n",
      "\n"
     ]
    }
   ],
   "source": [
    "# TEST CASES\n",
    "true_min = heights['Height'].min()\n",
    "true_max = heights['Height'].max()\n",
    "true_med = percentile(.5)\n",
    "\n",
    "# Minimum trials\n",
    "min_trials = [saa_percentile_height(100, 1.0,0) for _ in range(100)]\n",
    "min_errors = [pct_error(true_min, t) for t in min_trials]\n",
    "print('Median error for min heights: ', np.median(min_errors))\n",
    "print('Mean error for min heights: ', np.mean(min_errors),\"\\n\")\n",
    "\n",
    "#Max Trials\n",
    "max_trials = [saa_percentile_height(100, 1.0,1.0) for _ in range(100)]\n",
    "max_errors = [pct_error(true_max, t) for t in max_trials]\n",
    "print('Median error for max heights: ', np.median(max_errors))\n",
    "print('Mean error for max heights: ', np.mean(max_errors),\"\\n\")\n",
    "\n",
    "#Med trials\n",
    "med_trials = [saa_percentile_height(100, 1.0,0.5) for _ in range(100)]\n",
    "med_errors = [pct_error(true_med, t) for t in med_trials]\n",
    "print('Median error for med heights: ', np.median(med_errors))\n",
    "print('Mean error for med heights: ', np.mean(med_errors),\"\\n\")\n",
    "\n",
    "\n"
   ]
  },
  {
   "cell_type": "code",
   "execution_count": null,
   "id": "9356597e",
   "metadata": {},
   "outputs": [],
   "source": []
  }
 ],
 "metadata": {
  "kernelspec": {
   "display_name": "Python 3",
   "language": "python",
   "name": "python3"
  },
  "language_info": {
   "codemirror_mode": {
    "name": "ipython",
    "version": 3
   },
   "file_extension": ".py",
   "mimetype": "text/x-python",
   "name": "python",
   "nbconvert_exporter": "python",
   "pygments_lexer": "ipython3",
   "version": "3.8.8"
  }
 },
 "nbformat": 4,
 "nbformat_minor": 5
}
